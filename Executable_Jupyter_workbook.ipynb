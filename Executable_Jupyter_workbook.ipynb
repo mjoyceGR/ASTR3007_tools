{
 "cells": [
  {
   "cell_type": "code",
   "execution_count": 23,
   "metadata": {},
   "outputs": [],
   "source": [
    "############################################################\n",
    "#\n",
    "# IMPORTANT!!!\n",
    "#\n",
    "# on your computer, you must first install bokeh and pandas\n",
    "# in order for them to be understood by this notebook\n",
    "# you CANNOT import them through this notebook\n",
    "#\n",
    "# do this by opening a terminal window and typing:\n",
    "#\n",
    "#     pip3 install bokeh ipython[all] jupyter\n",
    "#     pip3 install pandas ipython[all] jupyter\n",
    "#\n",
    "############################################################"
   ]
  },
  {
   "cell_type": "code",
   "execution_count": 25,
   "metadata": {},
   "outputs": [
    {
     "data": {
      "text/plain": [
       "0"
      ]
     },
     "execution_count": 25,
     "metadata": {},
     "output_type": "execute_result"
    }
   ],
   "source": [
    "#!/usr/bin/env python3.7\n",
    "####################################################\n",
    "#\n",
    "# Author: M Joyce\n",
    "# For use with ASTR3007/6007 MESA-based assignments\n",
    "####################################################\n",
    "import subprocess\n",
    "import numpy as np\n",
    "import pandas as pd\n",
    "import bokeh\n",
    "from bokeh.models import ColumnDataSource\n",
    "from bokeh.plotting import figure, show, output_file \n",
    "\n",
    "subprocess.call(\"echo | locate 'trimmed_history.data' \", shell=True)"
   ]
  },
  {
   "cell_type": "code",
   "execution_count": 20,
   "metadata": {},
   "outputs": [],
   "source": [
    "## this file must be located in the same place from which you launched jupyter, or you need to modify the path\n",
    "## e.g. '/home/user/ASTR3007/trimmed_history.data'\n",
    "\n",
    "MESA_file = 'trimmed_history.data'\n",
    "\n",
    "\n",
    "#0 \t\t\t  1 \t   2 \t\t 3 \t    4\t\t5\n",
    "#model_number star_age star_mass log_L  log_R   log_Teff \n",
    "model_number, star_age, log_Teff, log_L= np.loadtxt(MESA_file, usecols=(0,1,5,3), unpack=True, skiprows=6)\n",
    "\n",
    "star_age = star_age/1e9\n",
    "select = np.where( (star_age <= 13.9) & (star_age >= 0.5) )[0]\n",
    "model_number = model_number[select]\n",
    "star_age = star_age[select]\n",
    "log_Teff = log_Teff[select]\n",
    "log_L = log_L[select]\n",
    "\n",
    "\n",
    "## the dictionary\n",
    "star_features ={\n",
    "\t 'star_age': star_age,\n",
    "\t 'model_number': model_number,\n",
    "\t 'log_Teff': log_Teff,\n",
    "\t 'log_L': log_L\n",
    "\t }\n",
    "\n",
    "df = pd.DataFrame(data=star_features)\n",
    "source = ColumnDataSource(data=df)\n"
   ]
  },
  {
   "cell_type": "code",
   "execution_count": 21,
   "metadata": {},
   "outputs": [],
   "source": [
    "TITLE = \"Interactive HR\"\n",
    "TOOLS=\"hover,crosshair,pan,wheel_zoom,zoom_in,zoom_out,box_zoom,undo,redo,reset,tap,save,box_select,poly_select,lasso_select,\"\n",
    "\n",
    "p = figure(tools=TOOLS, toolbar_location=\"above\", plot_width=600, plot_height=800, title=TITLE)\n",
    "p.toolbar.logo = \"grey\"\n",
    "p.background_fill_color = \"#dddddd\"\n",
    "p.xaxis.axis_label = \"log Teff\"\n",
    "p.yaxis.axis_label = \"log L\"\n",
    "p.grid.grid_line_color = \"white\"\n",
    "\n",
    "## the labels \n",
    "p.hover.tooltips = [\n",
    "    (\"star age (Gyr):\", \"@star_age\"),\n",
    "    ]#(\"model number\", \"@model_number\"),\n",
    "\t#]\n",
    "\n",
    "p.circle('log_Teff', 'log_L', size=5, source = source, \n",
    "         color='green',  fill_alpha=0.8) #line_color=\"black\",\n",
    "p.x_range.flipped = True\n",
    "\n",
    "output_file(\"HR.html\", title=\"Bokeh HR plot example\")#, mode='inline')\n",
    "show(p)\n"
   ]
  },
  {
   "cell_type": "code",
   "execution_count": null,
   "metadata": {},
   "outputs": [],
   "source": []
  }
 ],
 "metadata": {
  "kernelspec": {
   "display_name": "Python 3",
   "language": "python",
   "name": "python3"
  },
  "language_info": {
   "codemirror_mode": {
    "name": "ipython",
    "version": 3
   },
   "file_extension": ".py",
   "mimetype": "text/x-python",
   "name": "python",
   "nbconvert_exporter": "python",
   "pygments_lexer": "ipython3",
   "version": "3.6.9"
  }
 },
 "nbformat": 4,
 "nbformat_minor": 4
}
